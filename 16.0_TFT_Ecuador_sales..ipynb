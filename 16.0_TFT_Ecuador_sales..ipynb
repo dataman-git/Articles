{
 "cells": [
  {
   "cell_type": "markdown",
   "metadata": {},
   "source": [
    "## Import Libraries\n",
    "\n",
    "- requirements.txt\n",
    "    - jupyterlab==4.0.8\n",
    "    - darts==0.27.0\n",
    "    - pandas==1.2.3\n",
    "    - plotly==5.18.0\n",
    "    - nbformat==5.9.2\n"
   ]
  },
  {
   "cell_type": "code",
   "execution_count": 2,
   "metadata": {},
   "outputs": [
    {
     "name": "stderr",
     "output_type": "stream",
     "text": [
      "/Users/chriskuo/anaconda3/envs/time_series/lib/python3.11/site-packages/statsforecast/core.py:26: TqdmWarning: IProgress not found. Please update jupyter and ipywidgets. See https://ipywidgets.readthedocs.io/en/stable/user_install.html\n",
      "  from tqdm.autonotebook import tqdm\n"
     ]
    }
   ],
   "source": [
    "import pandas as pd\n",
    "import numpy as np\n",
    "from datetime import timedelta\n",
    "import matplotlib.pyplot as plt\n",
    "\n",
    "from darts import TimeSeries\n",
    "from darts.dataprocessing.pipeline import Pipeline\n",
    "from darts.models import TFTModel\n",
    "from darts.dataprocessing.transformers import Scaler\n",
    "from darts.utils.timeseries_generation import datetime_attribute_timeseries\n",
    "from darts.utils.likelihood_models import QuantileRegression\n",
    "from darts.dataprocessing.transformers import StaticCovariatesTransformer, MissingValuesFiller"
   ]
  },
  {
   "cell_type": "markdown",
   "metadata": {},
   "source": [
    "## Read and Preprocess data\n",
    "https://www.kaggle.com/competitions/store-sales-time-series-forecasting/data"
   ]
  },
  {
   "cell_type": "code",
   "execution_count": 3,
   "metadata": {},
   "outputs": [
    {
     "data": {
      "text/plain": [
       "Index(['id', 'date', 'store_nbr', 'family', 'sales', 'onpromotion', 'locale',\n",
       "       'locale_name', 'description', 'transferred', 'holiday_flag', 'city',\n",
       "       'state', 'type', 'cluster', 'transactions', 'year'],\n",
       "      dtype='object')"
      ]
     },
     "execution_count": 3,
     "metadata": {},
     "output_type": "execute_result"
    }
   ],
   "source": [
    "path = '/Users/chriskuo/Documents/Documents/My_documents_all/Book_neural_network_time_series_anomaly_detection/data/store-sales-time-series-forecasting'\n",
    "data = pd.read_csv(path + '/train.csv', delimiter=\",\")\n",
    "holidays= pd.read_csv(path + '/holidays_events.csv', delimiter=\",\").drop('type', axis=1)\n",
    "stores= pd.read_csv(path + '/stores.csv', delimiter=\",\")\n",
    "transactions= pd.read_csv(path + '/transactions.csv', delimiter=\",\")\n",
    "holidays['holiday_flag']=1\n",
    "data = data.merge(holidays, on='date', how='left')\n",
    "data= data.merge(stores, on='store_nbr', how='left')\n",
    "data = data[data['date']!='2013-01-01'] # Bad data\n",
    "data= data.merge(transactions, on=['date', 'store_nbr'], how='left')\n",
    "data['date'] = pd.to_datetime(data[\"date\"])\n",
    "data = data.drop_duplicates(subset=['date','store_nbr', 'family'], keep='last')\n",
    "data.loc[data['holiday_flag'].isna(),'holiday_flag']=0\n",
    "data['year'] = data['date'].dt.year \n",
    "data.columns"
   ]
  },
  {
   "cell_type": "code",
   "execution_count": 4,
   "metadata": {},
   "outputs": [
    {
     "data": {
      "text/html": [
       "<div>\n",
       "<style scoped>\n",
       "    .dataframe tbody tr th:only-of-type {\n",
       "        vertical-align: middle;\n",
       "    }\n",
       "\n",
       "    .dataframe tbody tr th {\n",
       "        vertical-align: top;\n",
       "    }\n",
       "\n",
       "    .dataframe thead th {\n",
       "        text-align: right;\n",
       "    }\n",
       "</style>\n",
       "<table border=\"1\" class=\"dataframe\">\n",
       "  <thead>\n",
       "    <tr style=\"text-align: right;\">\n",
       "      <th></th>\n",
       "      <th>count</th>\n",
       "      <th>sum</th>\n",
       "    </tr>\n",
       "    <tr>\n",
       "      <th>family</th>\n",
       "      <th></th>\n",
       "      <th></th>\n",
       "    </tr>\n",
       "  </thead>\n",
       "  <tbody>\n",
       "    <tr>\n",
       "      <th>GROCERY I</th>\n",
       "      <td>90882</td>\n",
       "      <td>3.434620e+08</td>\n",
       "    </tr>\n",
       "    <tr>\n",
       "      <th>BEVERAGES</th>\n",
       "      <td>90882</td>\n",
       "      <td>2.169537e+08</td>\n",
       "    </tr>\n",
       "    <tr>\n",
       "      <th>PRODUCE</th>\n",
       "      <td>90882</td>\n",
       "      <td>1.227047e+08</td>\n",
       "    </tr>\n",
       "    <tr>\n",
       "      <th>CLEANING</th>\n",
       "      <td>90882</td>\n",
       "      <td>9.752110e+07</td>\n",
       "    </tr>\n",
       "    <tr>\n",
       "      <th>DAIRY</th>\n",
       "      <td>90882</td>\n",
       "      <td>6.448757e+07</td>\n",
       "    </tr>\n",
       "  </tbody>\n",
       "</table>\n",
       "</div>"
      ],
      "text/plain": [
       "           count           sum\n",
       "family                        \n",
       "GROCERY I  90882  3.434620e+08\n",
       "BEVERAGES  90882  2.169537e+08\n",
       "PRODUCE    90882  1.227047e+08\n",
       "CLEANING   90882  9.752110e+07\n",
       "DAIRY      90882  6.448757e+07"
      ]
     },
     "execution_count": 4,
     "metadata": {},
     "output_type": "execute_result"
    }
   ],
   "source": [
    "data.groupby('store_nbr')['sales'].agg(['count','sum']).sort_values(by='sum',ascending=False).head()\n",
    "# Store_nbr: 44, 45, 47, 3 are large stores. We will just do the forecasting for them.\n",
    "data.groupby('family')['sales'].agg(['count','sum']).sort_values(by='sum',ascending=False).head()\n",
    "# Product family: 'GROCERY I','BEVERAGES','PRODUCE','CLEANING' are large categories. We will just do the forecasting for them."
   ]
  },
  {
   "cell_type": "code",
   "execution_count": 5,
   "metadata": {},
   "outputs": [],
   "source": [
    "data = data[ ( data['store_nbr'].isin([44, 45, 47, 3]) ) & \n",
    "             ( data['family'].isin(['GROCERY I','BEVERAGES','PRODUCE','CLEANING']) ) &\n",
    "             ( data['date'].dt.year >=2016)\n",
    "           ]"
   ]
  },
  {
   "cell_type": "code",
   "execution_count": 6,
   "metadata": {},
   "outputs": [],
   "source": [
    "# Split data into train and test\n",
    "train = data[data['date']<pd.to_datetime('2017-07-15')]\n",
    "test = data[data['date']>=pd.to_datetime('2017-07-15')]"
   ]
  },
  {
   "cell_type": "code",
   "execution_count": 7,
   "metadata": {},
   "outputs": [
    {
     "data": {
      "text/plain": [
       "[560, 32]"
      ]
     },
     "execution_count": 7,
     "metadata": {},
     "output_type": "execute_result"
    }
   ],
   "source": [
    "[train['date'].nunique(),test['date'].nunique()]"
   ]
  },
  {
   "cell_type": "code",
   "execution_count": 8,
   "metadata": {},
   "outputs": [],
   "source": [
    "TIME_COL = \"date\"\n",
    "TARGET = \"sales\"\n",
    "STATIC_COV = ['store_nbr', 'family'] \n",
    "FREQ = \"D\"\n",
    "FORECAST_HORIZON = test['date'].nunique() \n",
    "COVARIATES = ['onpromotion','holiday_flag']\n",
    "SCALER = Scaler()\n",
    "TRANSFORMER = StaticCovariatesTransformer()\n",
    "PIPELINE = Pipeline([SCALER, TRANSFORMER])"
   ]
  },
  {
   "cell_type": "code",
   "execution_count": 9,
   "metadata": {},
   "outputs": [
    {
     "data": {
      "text/plain": [
       "Index(['id', 'date', 'store_nbr', 'family', 'sales', 'onpromotion', 'locale',\n",
       "       'locale_name', 'description', 'transferred', 'holiday_flag', 'city',\n",
       "       'state', 'type', 'cluster', 'transactions', 'year'],\n",
       "      dtype='object')"
      ]
     },
     "execution_count": 9,
     "metadata": {},
     "output_type": "execute_result"
    }
   ],
   "source": [
    "train.columns"
   ]
  },
  {
   "cell_type": "markdown",
   "metadata": {},
   "source": [
    "## Tranform data into Darts format"
   ]
  },
  {
   "cell_type": "code",
   "execution_count": 10,
   "metadata": {},
   "outputs": [],
   "source": [
    "# read train and test datasets and transform train dataset\n",
    "train_darts = TimeSeries.from_group_dataframe(df=train, \n",
    "                                              group_cols=STATIC_COV, \n",
    "                                              time_col=TIME_COL, \n",
    "                                              value_cols=TARGET, \n",
    "                                              freq=FREQ, \n",
    "                                              fill_missing_dates=True, \n",
    "                                              fillna_value=0)\n",
    "test_darts = TimeSeries.from_group_dataframe(df=test, \n",
    "                                             group_cols=STATIC_COV, \n",
    "                                             time_col=TIME_COL, \n",
    "                                             value_cols=TARGET, \n",
    "                                             freq=FREQ, \n",
    "                                             fill_missing_dates=True, \n",
    "                                             fillna_value=0)"
   ]
  },
  {
   "cell_type": "code",
   "execution_count": 11,
   "metadata": {},
   "outputs": [
    {
     "data": {
      "text/plain": [
       "[561, 32]"
      ]
     },
     "execution_count": 11,
     "metadata": {},
     "output_type": "execute_result"
    }
   ],
   "source": [
    "[len(train_darts[0]), len(test_darts[0])]"
   ]
  },
  {
   "cell_type": "markdown",
   "metadata": {},
   "source": [
    "## Create Covariates"
   ]
  },
  {
   "cell_type": "code",
   "execution_count": 13,
   "metadata": {},
   "outputs": [],
   "source": [
    "create_covariates = []\n",
    "for ts in train_darts:\n",
    "    # Add the month and week as a covariate\n",
    "    covariate = datetime_attribute_timeseries(\n",
    "        ts,\n",
    "        attribute=\"month\",\n",
    "        one_hot=True,\n",
    "        cyclic=False,\n",
    "        add_length=FORECAST_HORIZON,\n",
    "    )\n",
    "    covariate = covariate.stack(\n",
    "        datetime_attribute_timeseries(\n",
    "            ts,\n",
    "            attribute=\"week\",\n",
    "            one_hot=True,\n",
    "            cyclic=False,\n",
    "            add_length=FORECAST_HORIZON,\n",
    "        )\n",
    "    )\n",
    "    store = ts.static_covariates['store_nbr'].item()\n",
    "    family = ts.static_covariates['family'].item()\n",
    "    # create covariates to fill with interpolation\n",
    "    other_cov = TimeSeries.from_dataframe(data[(data['store_nbr'] == store) & (data['family'] == family)], time_col=TIME_COL, value_cols=COVARIATES, freq=FREQ, fill_missing_dates=True)\n",
    "    covariate = covariate.stack(MissingValuesFiller().transform(other_cov))\n",
    "\n",
    "    create_covariates.append(covariate)"
   ]
  },
  {
   "cell_type": "code",
   "execution_count": 14,
   "metadata": {},
   "outputs": [
    {
     "data": {
      "text/plain": [
       "16"
      ]
     },
     "execution_count": 14,
     "metadata": {},
     "output_type": "execute_result"
    }
   ],
   "source": [
    "len(create_covariates)"
   ]
  },
  {
   "cell_type": "code",
   "execution_count": 15,
   "metadata": {},
   "outputs": [
    {
     "data": {
      "text/plain": [
       "Index(['month_0', 'month_1', 'month_2', 'month_3', 'month_4', 'month_5',\n",
       "       'month_6', 'month_7', 'month_8', 'month_9', 'month_10', 'month_11',\n",
       "       'week_0', 'week_1', 'week_2', 'week_3', 'week_4', 'week_5', 'week_6',\n",
       "       'week_7', 'week_8', 'week_9', 'week_10', 'week_11', 'week_12',\n",
       "       'week_13', 'week_14', 'week_15', 'week_16', 'week_17', 'week_18',\n",
       "       'week_19', 'week_20', 'week_21', 'week_22', 'week_23', 'week_24',\n",
       "       'week_25', 'week_26', 'week_27', 'week_28', 'week_29', 'week_30',\n",
       "       'week_31', 'week_32', 'week_33', 'week_34', 'week_35', 'week_36',\n",
       "       'week_37', 'week_38', 'week_39', 'week_40', 'week_41', 'week_42',\n",
       "       'week_43', 'week_44', 'week_45', 'week_46', 'week_47', 'week_48',\n",
       "       'week_49', 'week_50', 'week_51', 'onpromotion', 'holiday_flag'],\n",
       "      dtype='object', name='component')"
      ]
     },
     "execution_count": 15,
     "metadata": {},
     "output_type": "execute_result"
    }
   ],
   "source": [
    "create_covariates[0].columns"
   ]
  },
  {
   "cell_type": "code",
   "execution_count": 16,
   "metadata": {},
   "outputs": [
    {
     "data": {
      "text/html": [
       "<div>\n",
       "<style scoped>\n",
       "    .dataframe tbody tr th:only-of-type {\n",
       "        vertical-align: middle;\n",
       "    }\n",
       "\n",
       "    .dataframe tbody tr th {\n",
       "        vertical-align: top;\n",
       "    }\n",
       "\n",
       "    .dataframe thead th {\n",
       "        text-align: right;\n",
       "    }\n",
       "</style>\n",
       "<table border=\"1\" class=\"dataframe\">\n",
       "  <thead>\n",
       "    <tr style=\"text-align: right;\">\n",
       "      <th>component</th>\n",
       "      <th>month_0</th>\n",
       "      <th>month_1</th>\n",
       "      <th>month_2</th>\n",
       "      <th>month_3</th>\n",
       "      <th>month_4</th>\n",
       "      <th>month_5</th>\n",
       "      <th>month_6</th>\n",
       "      <th>month_7</th>\n",
       "      <th>month_8</th>\n",
       "      <th>month_9</th>\n",
       "      <th>...</th>\n",
       "      <th>week_44</th>\n",
       "      <th>week_45</th>\n",
       "      <th>week_46</th>\n",
       "      <th>week_47</th>\n",
       "      <th>week_48</th>\n",
       "      <th>week_49</th>\n",
       "      <th>week_50</th>\n",
       "      <th>week_51</th>\n",
       "      <th>onpromotion</th>\n",
       "      <th>holiday_flag</th>\n",
       "    </tr>\n",
       "    <tr>\n",
       "      <th>time</th>\n",
       "      <th></th>\n",
       "      <th></th>\n",
       "      <th></th>\n",
       "      <th></th>\n",
       "      <th></th>\n",
       "      <th></th>\n",
       "      <th></th>\n",
       "      <th></th>\n",
       "      <th></th>\n",
       "      <th></th>\n",
       "      <th></th>\n",
       "      <th></th>\n",
       "      <th></th>\n",
       "      <th></th>\n",
       "      <th></th>\n",
       "      <th></th>\n",
       "      <th></th>\n",
       "      <th></th>\n",
       "      <th></th>\n",
       "      <th></th>\n",
       "      <th></th>\n",
       "    </tr>\n",
       "  </thead>\n",
       "  <tbody>\n",
       "    <tr>\n",
       "      <th>2017-08-11</th>\n",
       "      <td>0.0</td>\n",
       "      <td>0.0</td>\n",
       "      <td>0.0</td>\n",
       "      <td>0.0</td>\n",
       "      <td>0.0</td>\n",
       "      <td>0.0</td>\n",
       "      <td>0.0</td>\n",
       "      <td>1.0</td>\n",
       "      <td>0.0</td>\n",
       "      <td>0.0</td>\n",
       "      <td>...</td>\n",
       "      <td>0.0</td>\n",
       "      <td>0.0</td>\n",
       "      <td>0.0</td>\n",
       "      <td>0.0</td>\n",
       "      <td>0.0</td>\n",
       "      <td>0.0</td>\n",
       "      <td>0.0</td>\n",
       "      <td>0.0</td>\n",
       "      <td>13.0</td>\n",
       "      <td>1.0</td>\n",
       "    </tr>\n",
       "    <tr>\n",
       "      <th>2017-08-12</th>\n",
       "      <td>0.0</td>\n",
       "      <td>0.0</td>\n",
       "      <td>0.0</td>\n",
       "      <td>0.0</td>\n",
       "      <td>0.0</td>\n",
       "      <td>0.0</td>\n",
       "      <td>0.0</td>\n",
       "      <td>1.0</td>\n",
       "      <td>0.0</td>\n",
       "      <td>0.0</td>\n",
       "      <td>...</td>\n",
       "      <td>0.0</td>\n",
       "      <td>0.0</td>\n",
       "      <td>0.0</td>\n",
       "      <td>0.0</td>\n",
       "      <td>0.0</td>\n",
       "      <td>0.0</td>\n",
       "      <td>0.0</td>\n",
       "      <td>0.0</td>\n",
       "      <td>12.0</td>\n",
       "      <td>0.0</td>\n",
       "    </tr>\n",
       "    <tr>\n",
       "      <th>2017-08-13</th>\n",
       "      <td>0.0</td>\n",
       "      <td>0.0</td>\n",
       "      <td>0.0</td>\n",
       "      <td>0.0</td>\n",
       "      <td>0.0</td>\n",
       "      <td>0.0</td>\n",
       "      <td>0.0</td>\n",
       "      <td>1.0</td>\n",
       "      <td>0.0</td>\n",
       "      <td>0.0</td>\n",
       "      <td>...</td>\n",
       "      <td>0.0</td>\n",
       "      <td>0.0</td>\n",
       "      <td>0.0</td>\n",
       "      <td>0.0</td>\n",
       "      <td>0.0</td>\n",
       "      <td>0.0</td>\n",
       "      <td>0.0</td>\n",
       "      <td>0.0</td>\n",
       "      <td>13.0</td>\n",
       "      <td>0.0</td>\n",
       "    </tr>\n",
       "    <tr>\n",
       "      <th>2017-08-14</th>\n",
       "      <td>0.0</td>\n",
       "      <td>0.0</td>\n",
       "      <td>0.0</td>\n",
       "      <td>0.0</td>\n",
       "      <td>0.0</td>\n",
       "      <td>0.0</td>\n",
       "      <td>0.0</td>\n",
       "      <td>1.0</td>\n",
       "      <td>0.0</td>\n",
       "      <td>0.0</td>\n",
       "      <td>...</td>\n",
       "      <td>0.0</td>\n",
       "      <td>0.0</td>\n",
       "      <td>0.0</td>\n",
       "      <td>0.0</td>\n",
       "      <td>0.0</td>\n",
       "      <td>0.0</td>\n",
       "      <td>0.0</td>\n",
       "      <td>0.0</td>\n",
       "      <td>13.0</td>\n",
       "      <td>0.0</td>\n",
       "    </tr>\n",
       "    <tr>\n",
       "      <th>2017-08-15</th>\n",
       "      <td>0.0</td>\n",
       "      <td>0.0</td>\n",
       "      <td>0.0</td>\n",
       "      <td>0.0</td>\n",
       "      <td>0.0</td>\n",
       "      <td>0.0</td>\n",
       "      <td>0.0</td>\n",
       "      <td>1.0</td>\n",
       "      <td>0.0</td>\n",
       "      <td>0.0</td>\n",
       "      <td>...</td>\n",
       "      <td>0.0</td>\n",
       "      <td>0.0</td>\n",
       "      <td>0.0</td>\n",
       "      <td>0.0</td>\n",
       "      <td>0.0</td>\n",
       "      <td>0.0</td>\n",
       "      <td>0.0</td>\n",
       "      <td>0.0</td>\n",
       "      <td>13.0</td>\n",
       "      <td>1.0</td>\n",
       "    </tr>\n",
       "  </tbody>\n",
       "</table>\n",
       "<p>5 rows × 66 columns</p>\n",
       "</div>"
      ],
      "text/plain": [
       "component   month_0  month_1  month_2  month_3  month_4  month_5  month_6  \\\n",
       "time                                                                        \n",
       "2017-08-11      0.0      0.0      0.0      0.0      0.0      0.0      0.0   \n",
       "2017-08-12      0.0      0.0      0.0      0.0      0.0      0.0      0.0   \n",
       "2017-08-13      0.0      0.0      0.0      0.0      0.0      0.0      0.0   \n",
       "2017-08-14      0.0      0.0      0.0      0.0      0.0      0.0      0.0   \n",
       "2017-08-15      0.0      0.0      0.0      0.0      0.0      0.0      0.0   \n",
       "\n",
       "component   month_7  month_8  month_9  ...  week_44  week_45  week_46  \\\n",
       "time                                   ...                              \n",
       "2017-08-11      1.0      0.0      0.0  ...      0.0      0.0      0.0   \n",
       "2017-08-12      1.0      0.0      0.0  ...      0.0      0.0      0.0   \n",
       "2017-08-13      1.0      0.0      0.0  ...      0.0      0.0      0.0   \n",
       "2017-08-14      1.0      0.0      0.0  ...      0.0      0.0      0.0   \n",
       "2017-08-15      1.0      0.0      0.0  ...      0.0      0.0      0.0   \n",
       "\n",
       "component   week_47  week_48  week_49  week_50  week_51  onpromotion  \\\n",
       "time                                                                   \n",
       "2017-08-11      0.0      0.0      0.0      0.0      0.0         13.0   \n",
       "2017-08-12      0.0      0.0      0.0      0.0      0.0         12.0   \n",
       "2017-08-13      0.0      0.0      0.0      0.0      0.0         13.0   \n",
       "2017-08-14      0.0      0.0      0.0      0.0      0.0         13.0   \n",
       "2017-08-15      0.0      0.0      0.0      0.0      0.0         13.0   \n",
       "\n",
       "component   holiday_flag  \n",
       "time                      \n",
       "2017-08-11           1.0  \n",
       "2017-08-12           0.0  \n",
       "2017-08-13           0.0  \n",
       "2017-08-14           0.0  \n",
       "2017-08-15           1.0  \n",
       "\n",
       "[5 rows x 66 columns]"
      ]
     },
     "execution_count": 16,
     "metadata": {},
     "output_type": "execute_result"
    }
   ],
   "source": [
    "TimeSeries.pd_dataframe(create_covariates[0]).tail()"
   ]
  },
  {
   "cell_type": "code",
   "execution_count": 17,
   "metadata": {},
   "outputs": [
    {
     "data": {
      "text/html": [
       "<div>\n",
       "<style scoped>\n",
       "    .dataframe tbody tr th:only-of-type {\n",
       "        vertical-align: middle;\n",
       "    }\n",
       "\n",
       "    .dataframe tbody tr th {\n",
       "        vertical-align: top;\n",
       "    }\n",
       "\n",
       "    .dataframe thead th {\n",
       "        text-align: right;\n",
       "    }\n",
       "</style>\n",
       "<table border=\"1\" class=\"dataframe\">\n",
       "  <thead>\n",
       "    <tr style=\"text-align: right;\">\n",
       "      <th>component</th>\n",
       "      <th>sales</th>\n",
       "    </tr>\n",
       "    <tr>\n",
       "      <th>date</th>\n",
       "      <th></th>\n",
       "    </tr>\n",
       "  </thead>\n",
       "  <tbody>\n",
       "    <tr>\n",
       "      <th>2017-07-10</th>\n",
       "      <td>5062.7570</td>\n",
       "    </tr>\n",
       "    <tr>\n",
       "      <th>2017-07-11</th>\n",
       "      <td>4450.1978</td>\n",
       "    </tr>\n",
       "    <tr>\n",
       "      <th>2017-07-12</th>\n",
       "      <td>6675.8190</td>\n",
       "    </tr>\n",
       "    <tr>\n",
       "      <th>2017-07-13</th>\n",
       "      <td>4157.3610</td>\n",
       "    </tr>\n",
       "    <tr>\n",
       "      <th>2017-07-14</th>\n",
       "      <td>4637.2200</td>\n",
       "    </tr>\n",
       "  </tbody>\n",
       "</table>\n",
       "</div>"
      ],
      "text/plain": [
       "component       sales\n",
       "date                 \n",
       "2017-07-10  5062.7570\n",
       "2017-07-11  4450.1978\n",
       "2017-07-12  6675.8190\n",
       "2017-07-13  4157.3610\n",
       "2017-07-14  4637.2200"
      ]
     },
     "execution_count": 17,
     "metadata": {},
     "output_type": "execute_result"
    }
   ],
   "source": [
    "TimeSeries.pd_dataframe(train_darts[15]).tail()"
   ]
  },
  {
   "cell_type": "markdown",
   "metadata": {},
   "source": [
    "## Transform Data"
   ]
  },
  {
   "cell_type": "code",
   "execution_count": 36,
   "metadata": {},
   "outputs": [],
   "source": [
    "# scale data and transform static covariates\n",
    "# Notice SCALER is before PIPELINE because PIPELINE includes SCALER\n",
    "covariates_transformed = SCALER.fit_transform(create_covariates)\n",
    "train_transformed = PIPELINE.fit_transform(train_darts)"
   ]
  },
  {
   "cell_type": "code",
   "execution_count": 37,
   "metadata": {},
   "outputs": [
    {
     "data": {
      "text/plain": [
       "Index(['sales'], dtype='object', name='component')"
      ]
     },
     "execution_count": 37,
     "metadata": {},
     "output_type": "execute_result"
    }
   ],
   "source": [
    "train_transformed[0].columns"
   ]
  },
  {
   "cell_type": "code",
   "execution_count": 38,
   "metadata": {},
   "outputs": [
    {
     "data": {
      "text/plain": [
       "Index(['month_0', 'month_1', 'month_2', 'month_3', 'month_4', 'month_5',\n",
       "       'month_6', 'month_7', 'month_8', 'month_9', 'month_10', 'month_11',\n",
       "       'week_0', 'week_1', 'week_2', 'week_3', 'week_4', 'week_5', 'week_6',\n",
       "       'week_7', 'week_8', 'week_9', 'week_10', 'week_11', 'week_12',\n",
       "       'week_13', 'week_14', 'week_15', 'week_16', 'week_17', 'week_18',\n",
       "       'week_19', 'week_20', 'week_21', 'week_22', 'week_23', 'week_24',\n",
       "       'week_25', 'week_26', 'week_27', 'week_28', 'week_29', 'week_30',\n",
       "       'week_31', 'week_32', 'week_33', 'week_34', 'week_35', 'week_36',\n",
       "       'week_37', 'week_38', 'week_39', 'week_40', 'week_41', 'week_42',\n",
       "       'week_43', 'week_44', 'week_45', 'week_46', 'week_47', 'week_48',\n",
       "       'week_49', 'week_50', 'week_51', 'onpromotion', 'holiday_flag'],\n",
       "      dtype='object', name='component')"
      ]
     },
     "execution_count": 38,
     "metadata": {},
     "output_type": "execute_result"
    }
   ],
   "source": [
    "covariates_transformed[0].columns"
   ]
  },
  {
   "cell_type": "code",
   "execution_count": 39,
   "metadata": {},
   "outputs": [
    {
     "data": {
      "text/html": [
       "<div>\n",
       "<style scoped>\n",
       "    .dataframe tbody tr th:only-of-type {\n",
       "        vertical-align: middle;\n",
       "    }\n",
       "\n",
       "    .dataframe tbody tr th {\n",
       "        vertical-align: top;\n",
       "    }\n",
       "\n",
       "    .dataframe thead th {\n",
       "        text-align: right;\n",
       "    }\n",
       "</style>\n",
       "<table border=\"1\" class=\"dataframe\">\n",
       "  <thead>\n",
       "    <tr style=\"text-align: right;\">\n",
       "      <th>component</th>\n",
       "      <th>month_0</th>\n",
       "      <th>month_1</th>\n",
       "      <th>month_2</th>\n",
       "      <th>month_3</th>\n",
       "      <th>month_4</th>\n",
       "      <th>month_5</th>\n",
       "      <th>month_6</th>\n",
       "      <th>month_7</th>\n",
       "      <th>month_8</th>\n",
       "      <th>month_9</th>\n",
       "      <th>...</th>\n",
       "      <th>week_44</th>\n",
       "      <th>week_45</th>\n",
       "      <th>week_46</th>\n",
       "      <th>week_47</th>\n",
       "      <th>week_48</th>\n",
       "      <th>week_49</th>\n",
       "      <th>week_50</th>\n",
       "      <th>week_51</th>\n",
       "      <th>onpromotion</th>\n",
       "      <th>holiday_flag</th>\n",
       "    </tr>\n",
       "    <tr>\n",
       "      <th>time</th>\n",
       "      <th></th>\n",
       "      <th></th>\n",
       "      <th></th>\n",
       "      <th></th>\n",
       "      <th></th>\n",
       "      <th></th>\n",
       "      <th></th>\n",
       "      <th></th>\n",
       "      <th></th>\n",
       "      <th></th>\n",
       "      <th></th>\n",
       "      <th></th>\n",
       "      <th></th>\n",
       "      <th></th>\n",
       "      <th></th>\n",
       "      <th></th>\n",
       "      <th></th>\n",
       "      <th></th>\n",
       "      <th></th>\n",
       "      <th></th>\n",
       "      <th></th>\n",
       "    </tr>\n",
       "  </thead>\n",
       "  <tbody>\n",
       "    <tr>\n",
       "      <th>2016-01-01</th>\n",
       "      <td>1.0</td>\n",
       "      <td>0.0</td>\n",
       "      <td>0.0</td>\n",
       "      <td>0.0</td>\n",
       "      <td>0.0</td>\n",
       "      <td>0.0</td>\n",
       "      <td>0.0</td>\n",
       "      <td>0.0</td>\n",
       "      <td>0.0</td>\n",
       "      <td>0.0</td>\n",
       "      <td>...</td>\n",
       "      <td>0.0</td>\n",
       "      <td>0.0</td>\n",
       "      <td>0.0</td>\n",
       "      <td>0.0</td>\n",
       "      <td>0.0</td>\n",
       "      <td>0.0</td>\n",
       "      <td>0.0</td>\n",
       "      <td>0.0</td>\n",
       "      <td>0.000000</td>\n",
       "      <td>1.0</td>\n",
       "    </tr>\n",
       "    <tr>\n",
       "      <th>2016-01-02</th>\n",
       "      <td>1.0</td>\n",
       "      <td>0.0</td>\n",
       "      <td>0.0</td>\n",
       "      <td>0.0</td>\n",
       "      <td>0.0</td>\n",
       "      <td>0.0</td>\n",
       "      <td>0.0</td>\n",
       "      <td>0.0</td>\n",
       "      <td>0.0</td>\n",
       "      <td>0.0</td>\n",
       "      <td>...</td>\n",
       "      <td>0.0</td>\n",
       "      <td>0.0</td>\n",
       "      <td>0.0</td>\n",
       "      <td>0.0</td>\n",
       "      <td>0.0</td>\n",
       "      <td>0.0</td>\n",
       "      <td>0.0</td>\n",
       "      <td>0.0</td>\n",
       "      <td>0.041237</td>\n",
       "      <td>0.0</td>\n",
       "    </tr>\n",
       "    <tr>\n",
       "      <th>2016-01-03</th>\n",
       "      <td>1.0</td>\n",
       "      <td>0.0</td>\n",
       "      <td>0.0</td>\n",
       "      <td>0.0</td>\n",
       "      <td>0.0</td>\n",
       "      <td>0.0</td>\n",
       "      <td>0.0</td>\n",
       "      <td>0.0</td>\n",
       "      <td>0.0</td>\n",
       "      <td>0.0</td>\n",
       "      <td>...</td>\n",
       "      <td>0.0</td>\n",
       "      <td>0.0</td>\n",
       "      <td>0.0</td>\n",
       "      <td>0.0</td>\n",
       "      <td>0.0</td>\n",
       "      <td>0.0</td>\n",
       "      <td>0.0</td>\n",
       "      <td>0.0</td>\n",
       "      <td>0.020619</td>\n",
       "      <td>0.0</td>\n",
       "    </tr>\n",
       "    <tr>\n",
       "      <th>2016-01-04</th>\n",
       "      <td>1.0</td>\n",
       "      <td>0.0</td>\n",
       "      <td>0.0</td>\n",
       "      <td>0.0</td>\n",
       "      <td>0.0</td>\n",
       "      <td>0.0</td>\n",
       "      <td>0.0</td>\n",
       "      <td>0.0</td>\n",
       "      <td>0.0</td>\n",
       "      <td>0.0</td>\n",
       "      <td>...</td>\n",
       "      <td>0.0</td>\n",
       "      <td>0.0</td>\n",
       "      <td>0.0</td>\n",
       "      <td>0.0</td>\n",
       "      <td>0.0</td>\n",
       "      <td>0.0</td>\n",
       "      <td>0.0</td>\n",
       "      <td>0.0</td>\n",
       "      <td>0.041237</td>\n",
       "      <td>0.0</td>\n",
       "    </tr>\n",
       "    <tr>\n",
       "      <th>2016-01-05</th>\n",
       "      <td>1.0</td>\n",
       "      <td>0.0</td>\n",
       "      <td>0.0</td>\n",
       "      <td>0.0</td>\n",
       "      <td>0.0</td>\n",
       "      <td>0.0</td>\n",
       "      <td>0.0</td>\n",
       "      <td>0.0</td>\n",
       "      <td>0.0</td>\n",
       "      <td>0.0</td>\n",
       "      <td>...</td>\n",
       "      <td>0.0</td>\n",
       "      <td>0.0</td>\n",
       "      <td>0.0</td>\n",
       "      <td>0.0</td>\n",
       "      <td>0.0</td>\n",
       "      <td>0.0</td>\n",
       "      <td>0.0</td>\n",
       "      <td>0.0</td>\n",
       "      <td>0.041237</td>\n",
       "      <td>0.0</td>\n",
       "    </tr>\n",
       "    <tr>\n",
       "      <th>...</th>\n",
       "      <td>...</td>\n",
       "      <td>...</td>\n",
       "      <td>...</td>\n",
       "      <td>...</td>\n",
       "      <td>...</td>\n",
       "      <td>...</td>\n",
       "      <td>...</td>\n",
       "      <td>...</td>\n",
       "      <td>...</td>\n",
       "      <td>...</td>\n",
       "      <td>...</td>\n",
       "      <td>...</td>\n",
       "      <td>...</td>\n",
       "      <td>...</td>\n",
       "      <td>...</td>\n",
       "      <td>...</td>\n",
       "      <td>...</td>\n",
       "      <td>...</td>\n",
       "      <td>...</td>\n",
       "      <td>...</td>\n",
       "      <td>...</td>\n",
       "    </tr>\n",
       "    <tr>\n",
       "      <th>2017-08-11</th>\n",
       "      <td>0.0</td>\n",
       "      <td>0.0</td>\n",
       "      <td>0.0</td>\n",
       "      <td>0.0</td>\n",
       "      <td>0.0</td>\n",
       "      <td>0.0</td>\n",
       "      <td>0.0</td>\n",
       "      <td>1.0</td>\n",
       "      <td>0.0</td>\n",
       "      <td>0.0</td>\n",
       "      <td>...</td>\n",
       "      <td>0.0</td>\n",
       "      <td>0.0</td>\n",
       "      <td>0.0</td>\n",
       "      <td>0.0</td>\n",
       "      <td>0.0</td>\n",
       "      <td>0.0</td>\n",
       "      <td>0.0</td>\n",
       "      <td>0.0</td>\n",
       "      <td>0.134021</td>\n",
       "      <td>1.0</td>\n",
       "    </tr>\n",
       "    <tr>\n",
       "      <th>2017-08-12</th>\n",
       "      <td>0.0</td>\n",
       "      <td>0.0</td>\n",
       "      <td>0.0</td>\n",
       "      <td>0.0</td>\n",
       "      <td>0.0</td>\n",
       "      <td>0.0</td>\n",
       "      <td>0.0</td>\n",
       "      <td>1.0</td>\n",
       "      <td>0.0</td>\n",
       "      <td>0.0</td>\n",
       "      <td>...</td>\n",
       "      <td>0.0</td>\n",
       "      <td>0.0</td>\n",
       "      <td>0.0</td>\n",
       "      <td>0.0</td>\n",
       "      <td>0.0</td>\n",
       "      <td>0.0</td>\n",
       "      <td>0.0</td>\n",
       "      <td>0.0</td>\n",
       "      <td>0.123711</td>\n",
       "      <td>0.0</td>\n",
       "    </tr>\n",
       "    <tr>\n",
       "      <th>2017-08-13</th>\n",
       "      <td>0.0</td>\n",
       "      <td>0.0</td>\n",
       "      <td>0.0</td>\n",
       "      <td>0.0</td>\n",
       "      <td>0.0</td>\n",
       "      <td>0.0</td>\n",
       "      <td>0.0</td>\n",
       "      <td>1.0</td>\n",
       "      <td>0.0</td>\n",
       "      <td>0.0</td>\n",
       "      <td>...</td>\n",
       "      <td>0.0</td>\n",
       "      <td>0.0</td>\n",
       "      <td>0.0</td>\n",
       "      <td>0.0</td>\n",
       "      <td>0.0</td>\n",
       "      <td>0.0</td>\n",
       "      <td>0.0</td>\n",
       "      <td>0.0</td>\n",
       "      <td>0.134021</td>\n",
       "      <td>0.0</td>\n",
       "    </tr>\n",
       "    <tr>\n",
       "      <th>2017-08-14</th>\n",
       "      <td>0.0</td>\n",
       "      <td>0.0</td>\n",
       "      <td>0.0</td>\n",
       "      <td>0.0</td>\n",
       "      <td>0.0</td>\n",
       "      <td>0.0</td>\n",
       "      <td>0.0</td>\n",
       "      <td>1.0</td>\n",
       "      <td>0.0</td>\n",
       "      <td>0.0</td>\n",
       "      <td>...</td>\n",
       "      <td>0.0</td>\n",
       "      <td>0.0</td>\n",
       "      <td>0.0</td>\n",
       "      <td>0.0</td>\n",
       "      <td>0.0</td>\n",
       "      <td>0.0</td>\n",
       "      <td>0.0</td>\n",
       "      <td>0.0</td>\n",
       "      <td>0.134021</td>\n",
       "      <td>0.0</td>\n",
       "    </tr>\n",
       "    <tr>\n",
       "      <th>2017-08-15</th>\n",
       "      <td>0.0</td>\n",
       "      <td>0.0</td>\n",
       "      <td>0.0</td>\n",
       "      <td>0.0</td>\n",
       "      <td>0.0</td>\n",
       "      <td>0.0</td>\n",
       "      <td>0.0</td>\n",
       "      <td>1.0</td>\n",
       "      <td>0.0</td>\n",
       "      <td>0.0</td>\n",
       "      <td>...</td>\n",
       "      <td>0.0</td>\n",
       "      <td>0.0</td>\n",
       "      <td>0.0</td>\n",
       "      <td>0.0</td>\n",
       "      <td>0.0</td>\n",
       "      <td>0.0</td>\n",
       "      <td>0.0</td>\n",
       "      <td>0.0</td>\n",
       "      <td>0.134021</td>\n",
       "      <td>1.0</td>\n",
       "    </tr>\n",
       "  </tbody>\n",
       "</table>\n",
       "<p>593 rows × 66 columns</p>\n",
       "</div>"
      ],
      "text/plain": [
       "component   month_0  month_1  month_2  month_3  month_4  month_5  month_6  \\\n",
       "time                                                                        \n",
       "2016-01-01      1.0      0.0      0.0      0.0      0.0      0.0      0.0   \n",
       "2016-01-02      1.0      0.0      0.0      0.0      0.0      0.0      0.0   \n",
       "2016-01-03      1.0      0.0      0.0      0.0      0.0      0.0      0.0   \n",
       "2016-01-04      1.0      0.0      0.0      0.0      0.0      0.0      0.0   \n",
       "2016-01-05      1.0      0.0      0.0      0.0      0.0      0.0      0.0   \n",
       "...             ...      ...      ...      ...      ...      ...      ...   \n",
       "2017-08-11      0.0      0.0      0.0      0.0      0.0      0.0      0.0   \n",
       "2017-08-12      0.0      0.0      0.0      0.0      0.0      0.0      0.0   \n",
       "2017-08-13      0.0      0.0      0.0      0.0      0.0      0.0      0.0   \n",
       "2017-08-14      0.0      0.0      0.0      0.0      0.0      0.0      0.0   \n",
       "2017-08-15      0.0      0.0      0.0      0.0      0.0      0.0      0.0   \n",
       "\n",
       "component   month_7  month_8  month_9  ...  week_44  week_45  week_46  \\\n",
       "time                                   ...                              \n",
       "2016-01-01      0.0      0.0      0.0  ...      0.0      0.0      0.0   \n",
       "2016-01-02      0.0      0.0      0.0  ...      0.0      0.0      0.0   \n",
       "2016-01-03      0.0      0.0      0.0  ...      0.0      0.0      0.0   \n",
       "2016-01-04      0.0      0.0      0.0  ...      0.0      0.0      0.0   \n",
       "2016-01-05      0.0      0.0      0.0  ...      0.0      0.0      0.0   \n",
       "...             ...      ...      ...  ...      ...      ...      ...   \n",
       "2017-08-11      1.0      0.0      0.0  ...      0.0      0.0      0.0   \n",
       "2017-08-12      1.0      0.0      0.0  ...      0.0      0.0      0.0   \n",
       "2017-08-13      1.0      0.0      0.0  ...      0.0      0.0      0.0   \n",
       "2017-08-14      1.0      0.0      0.0  ...      0.0      0.0      0.0   \n",
       "2017-08-15      1.0      0.0      0.0  ...      0.0      0.0      0.0   \n",
       "\n",
       "component   week_47  week_48  week_49  week_50  week_51  onpromotion  \\\n",
       "time                                                                   \n",
       "2016-01-01      0.0      0.0      0.0      0.0      0.0     0.000000   \n",
       "2016-01-02      0.0      0.0      0.0      0.0      0.0     0.041237   \n",
       "2016-01-03      0.0      0.0      0.0      0.0      0.0     0.020619   \n",
       "2016-01-04      0.0      0.0      0.0      0.0      0.0     0.041237   \n",
       "2016-01-05      0.0      0.0      0.0      0.0      0.0     0.041237   \n",
       "...             ...      ...      ...      ...      ...          ...   \n",
       "2017-08-11      0.0      0.0      0.0      0.0      0.0     0.134021   \n",
       "2017-08-12      0.0      0.0      0.0      0.0      0.0     0.123711   \n",
       "2017-08-13      0.0      0.0      0.0      0.0      0.0     0.134021   \n",
       "2017-08-14      0.0      0.0      0.0      0.0      0.0     0.134021   \n",
       "2017-08-15      0.0      0.0      0.0      0.0      0.0     0.134021   \n",
       "\n",
       "component   holiday_flag  \n",
       "time                      \n",
       "2016-01-01           1.0  \n",
       "2016-01-02           0.0  \n",
       "2016-01-03           0.0  \n",
       "2016-01-04           0.0  \n",
       "2016-01-05           0.0  \n",
       "...                  ...  \n",
       "2017-08-11           1.0  \n",
       "2017-08-12           0.0  \n",
       "2017-08-13           0.0  \n",
       "2017-08-14           0.0  \n",
       "2017-08-15           1.0  \n",
       "\n",
       "[593 rows x 66 columns]"
      ]
     },
     "execution_count": 39,
     "metadata": {},
     "output_type": "execute_result"
    }
   ],
   "source": [
    "TimeSeries.pd_dataframe(covariates_transformed[0]) # 143 weeks from 2010-02-05 to 2012-10-26"
   ]
  },
  {
   "cell_type": "code",
   "execution_count": 40,
   "metadata": {},
   "outputs": [
    {
     "data": {
      "text/plain": [
       "[593, 561]"
      ]
     },
     "execution_count": 40,
     "metadata": {},
     "output_type": "execute_result"
    }
   ],
   "source": [
    "[len(covariates_transformed[0]), len(train_transformed[0])]"
   ]
  },
  {
   "cell_type": "markdown",
   "metadata": {},
   "source": [
    "## TFT"
   ]
  },
  {
   "cell_type": "code",
   "execution_count": null,
   "metadata": {},
   "outputs": [
    {
     "name": "stderr",
     "output_type": "stream",
     "text": [
      "GPU available: True (mps), used: False\n",
      "TPU available: False, using: 0 TPU cores\n",
      "IPU available: False, using: 0 IPUs\n",
      "HPU available: False, using: 0 HPUs\n",
      "/Users/chriskuo/anaconda3/envs/time_series/lib/python3.11/site-packages/pytorch_lightning/trainer/setup.py:201: UserWarning: MPS available but not used. Set `accelerator` and `devices` using `Trainer(accelerator='mps', devices=1)`.\n",
      "  rank_zero_warn(\n"
     ]
    }
   ],
   "source": [
    "TFT_params = {\n",
    "    \"input_chunk_length\": 52, \n",
    "    \"output_chunk_length\": FORECAST_HORIZON,\n",
    "    \"hidden_size\": 2,\n",
    "    \"lstm_layers\": 2,\n",
    "    \"num_attention_heads\": 1,\n",
    "    \"dropout\": 0.1,\n",
    "    \"batch_size\": 16,\n",
    "    \"n_epochs\": 3,\n",
    "    \"likelihood\": QuantileRegression(quantiles=[0.25, 0.5, 0.75]),\n",
    "    \"random_state\": 42,\n",
    "    \"use_static_covariates\": True,\n",
    "    \"optimizer_kwargs\": {\"lr\": 1e-3},\n",
    "}\n",
    "\n",
    "tft_model = TFTModel(**TFT_params)\n",
    "tft_model.fit(train_transformed, # The training periods\n",
    "              future_covariates=covariates_transformed, # The entire periods\n",
    "              verbose=False)"
   ]
  },
  {
   "cell_type": "code",
   "execution_count": null,
   "metadata": {},
   "outputs": [],
   "source": [
    "# Get the prediction that is scaled\n",
    "scaled_pred = tft_model.predict(n=FORECAST_HORIZON, \n",
    "                                series=train_transformed, # The training periods\n",
    "                                num_samples=50, \n",
    "                                future_covariates=covariates_transformed # The entire periods\n",
    "                               )\n"
   ]
  },
  {
   "cell_type": "code",
   "execution_count": null,
   "metadata": {},
   "outputs": [],
   "source": [
    "len(scaled_pred[0])"
   ]
  },
  {
   "cell_type": "code",
   "execution_count": null,
   "metadata": {},
   "outputs": [],
   "source": [
    "\n",
    "# Transform the scaled prediction to the normal scale\n",
    "prediction = PIPELINE.inverse_transform(scaled_pred)"
   ]
  },
  {
   "cell_type": "markdown",
   "metadata": {},
   "source": [
    "### Plotting"
   ]
  },
  {
   "cell_type": "code",
   "execution_count": null,
   "metadata": {},
   "outputs": [],
   "source": [
    "def plot_it():\n",
    "    fig, axs = plt.subplots(2, 2, figsize=(10, 6), dpi=100)\n",
    "    ax0 = axs[0,0]\n",
    "    ax1 = axs[0,1]\n",
    "    ax2 = axs[1,0]\n",
    "    ax3 = axs[1,1]\n",
    "    \n",
    "    plt.suptitle(\"Store:\" +  str(store) , fontsize=12)\n",
    "    \n",
    "    val0[: pred0.end_time()].plot(ax=ax0, label=\"actual\", marker='o', linewidth=1)\n",
    "    pred0.plot(ax = ax0, low_quantile=0.25, high_quantile=0.75, label=\"prediction\", marker='o',linewidth=1,alpha=0.2 )\n",
    "    ax0.title.set_text('Product: '+family[0])\n",
    "    \n",
    "    val1[: pred1.end_time()].plot(ax=ax1, label=\"actual\", marker='o', linewidth=1)\n",
    "    pred1.plot(ax = ax1, low_quantile=0.25, high_quantile=0.75, label=\"prediction\", marker='o',linewidth=1,alpha=0.2 )\n",
    "    ax1.title.set_text('Product: '+family[1])\n",
    "    \n",
    "    val2[: pred2.end_time()].plot(ax=ax2, label=\"actual\", marker='o', linewidth=1)\n",
    "    pred2.plot(ax = ax2, low_quantile=0.25, high_quantile=0.75, label=\"prediction\", marker='o',linewidth=1,alpha=0.2 )\n",
    "    ax2.title.set_text('Product: '+family[2])\n",
    "    \n",
    "    val3[: pred3.end_time()].plot(ax=ax3, label=\"actual\", marker='o', linewidth=1)\n",
    "    pred3.plot(ax = ax3, low_quantile=0.25, high_quantile=0.75, label=\"prediction\", marker='o',linewidth=1,alpha=0.2 )\n",
    "    ax3.title.set_text('Product: '+family[3])\n",
    "    fig.tight_layout()\n",
    "    plt.show()\n",
    "\n",
    "\n",
    "store_nbr = [44, 45, 47, 3]\n",
    "family = ['GROCERY I', 'BEVERAGES', 'PRODUCE', 'CLEANING']\n",
    "\n",
    "for i in range(0,16,4):\n",
    "    k = int(i/4)\n",
    "    store = store_nbr[k]\n",
    "    pred0 = prediction[i]\n",
    "    pred1 = prediction[i+1]\n",
    "    pred2 = prediction[i+2]\n",
    "    pred3 = prediction[i+3]\n",
    "    val0 = test_darts[i]\n",
    "    val1 = test_darts[i+1]\n",
    "    val2 = test_darts[i+2]\n",
    "    val3 = test_darts[i+3]\n",
    "    plot_it()"
   ]
  },
  {
   "cell_type": "markdown",
   "metadata": {},
   "source": [
    "## Explainability"
   ]
  },
  {
   "cell_type": "code",
   "execution_count": null,
   "metadata": {},
   "outputs": [],
   "source": [
    "from darts.explainability import TFTExplainer\n",
    "\n",
    "explainer = TFTExplainer(\n",
    "    tft_model,\n",
    "    background_series=train_transformed[1],\n",
    "    background_future_covariates=dynamic_covariates_transformed[1],\n",
    ")\n",
    "explainability_result = explainer.explain()"
   ]
  },
  {
   "cell_type": "markdown",
   "metadata": {},
   "source": [
    "### Encoder Importance"
   ]
  },
  {
   "cell_type": "code",
   "execution_count": null,
   "metadata": {},
   "outputs": [],
   "source": [
    "plt.rcParams[\"figure.figsize\"] = (10,5)\n",
    "plt.barh(data=explainer._encoder_importance.melt().sort_values(by='value').tail(10), y='variable', width='value')\n",
    "plt.xlabel('Importance')\n",
    "plt.ylabel('Feature')\n",
    "plt.title('Encoder Importance')\n",
    "plt.show()"
   ]
  },
  {
   "cell_type": "markdown",
   "metadata": {},
   "source": [
    "### Decoder Importance"
   ]
  },
  {
   "cell_type": "code",
   "execution_count": null,
   "metadata": {},
   "outputs": [],
   "source": [
    "plt.rcParams[\"figure.figsize\"] = (10,5)\n",
    "plt.barh(data=explainer._decoder_importance.melt().sort_values(by='value').tail(10), y='variable', width='value')\n",
    "plt.xlabel('Importance')\n",
    "plt.ylabel('Feature')\n",
    "plt.title('Decoder Importance')\n",
    "plt.show()"
   ]
  },
  {
   "cell_type": "markdown",
   "metadata": {},
   "source": [
    "### Static Cov Importance"
   ]
  },
  {
   "cell_type": "code",
   "execution_count": null,
   "metadata": {},
   "outputs": [],
   "source": [
    "plt.rcParams[\"figure.figsize\"] = (10,5)\n",
    "plt.barh(data=explainer._static_covariates_importance.melt().sort_values(by='value').tail(10), y='variable', width='value')\n",
    "plt.xlabel('Importance')\n",
    "plt.ylabel('Feature')\n",
    "plt.title('Static Cov Importance')\n",
    "plt.show()"
   ]
  },
  {
   "cell_type": "markdown",
   "metadata": {},
   "source": [
    "### Time Importance"
   ]
  },
  {
   "cell_type": "code",
   "execution_count": null,
   "metadata": {},
   "outputs": [],
   "source": [
    "explainer.plot_attention(explainability_result, plot_type=\"all\", show_index_as='time')"
   ]
  },
  {
   "cell_type": "code",
   "execution_count": null,
   "metadata": {},
   "outputs": [],
   "source": []
  },
  {
   "cell_type": "code",
   "execution_count": null,
   "metadata": {},
   "outputs": [],
   "source": []
  },
  {
   "cell_type": "code",
   "execution_count": null,
   "metadata": {},
   "outputs": [],
   "source": []
  },
  {
   "cell_type": "code",
   "execution_count": null,
   "metadata": {},
   "outputs": [],
   "source": []
  }
 ],
 "metadata": {
  "kernelspec": {
   "display_name": "time_series",
   "language": "python",
   "name": "time_series"
  },
  "language_info": {
   "codemirror_mode": {
    "name": "ipython",
    "version": 3
   },
   "file_extension": ".py",
   "mimetype": "text/x-python",
   "name": "python",
   "nbconvert_exporter": "python",
   "pygments_lexer": "ipython3",
   "version": "3.11.8"
  }
 },
 "nbformat": 4,
 "nbformat_minor": 4
}
